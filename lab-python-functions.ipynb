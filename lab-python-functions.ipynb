{
 "cells": [
  {
   "cell_type": "markdown",
   "id": "25d7736c-ba17-4aff-b6bb-66eba20fbf4e",
   "metadata": {},
   "source": [
    "# Lab | Functions"
   ]
  },
  {
   "cell_type": "markdown",
   "id": "0c581062-8967-4d93-b06e-62833222f930",
   "metadata": {
    "tags": []
   },
   "source": [
    "## Exercise: Managing Customer Orders with Functions\n",
    "\n",
    "In the previous exercise, you improved the code for managing customer orders by using loops and flow control. Now, let's take it a step further and refactor the code by introducing functions.\n",
    "\n",
    "Follow the steps below to complete the exercise:\n",
    "\n",
    "1. Define a function named `initialize_inventory` that takes `products` as a parameter. Inside the function, implement the code for initializing the inventory dictionary using a loop and user input.\n",
    "\n",
    "2. Define a function named `get_customer_orders` that takes no parameters. Inside the function, implement the code for prompting the user to enter the product names using a loop. The function should return the `customer_orders` set.\n",
    "\n",
    "3. Define a function named `update_inventory` that takes `customer_orders` and `inventory` as parameters. Inside the function, implement the code for updating the inventory dictionary based on the customer orders.\n",
    "\n",
    "4. Define a function named `calculate_order_statistics` that takes `customer_orders` and `products` as parameters. Inside the function, implement the code for calculating the order statistics (total products ordered, and percentage of unique products ordered). The function should return these values.\n",
    "\n",
    "5. Define a function named `print_order_statistics` that takes `order_statistics` as a parameter. Inside the function, implement the code for printing the order statistics.\n",
    "\n",
    "6. Define a function named `print_updated_inventory` that takes `inventory` as a parameter. Inside the function, implement the code for printing the updated inventory.\n",
    "\n",
    "7. Call the functions in the appropriate sequence to execute the program and manage customer orders.\n",
    "\n",
    "Hints for functions:\n",
    "\n",
    "- Consider the input parameters required for each function and their return values.\n",
    "- Utilize function parameters and return values to transfer data between functions.\n",
    "- Test your functions individually to ensure they work correctly.\n",
    "\n",
    "\n"
   ]
  },
  {
   "cell_type": "code",
   "execution_count": 5,
   "id": "c9359628-5835-4c9d-adc0-c70f5392d6a5",
   "metadata": {
    "tags": []
   },
   "outputs": [
    {
     "name": "stdin",
     "output_type": "stream",
     "text": [
      "Enter the quantity of t-shirt available:  3\n",
      "Enter the quantity of mug available:  4\n",
      "Enter the quantity of hat available:  5\n",
      "Enter the quantity of book available:  6\n",
      "Enter the quantity of keychain available:  7\n"
     ]
    }
   ],
   "source": [
    "\"\"\"1. Define a function named initialize_inventory that takes products as a parameter. \n",
    "Inside the function, implement the code for initializing the inventory dictionary using a \n",
    "loop and user input.\"\"\"\n",
    "# Step 1\n",
    "products = [\"t-shirt\", \"mug\", \"hat\", \"book\", \"keychain\"]\n",
    "\n",
    "# Step 2\n",
    "inventory = {}\n",
    "\n",
    "def initialize_inventory(products):\n",
    "    for product in products:\n",
    "        quantity = int(input(f\"Enter the quantity of {product} available: \"))\n",
    "        inventory[product] = quantity\n",
    "\n",
    "initialize_inventory(products)"
   ]
  },
  {
   "cell_type": "code",
   "execution_count": 25,
   "id": "b819ba94-b7a0-455c-88b1-5b1df40cc10f",
   "metadata": {
    "tags": []
   },
   "outputs": [
    {
     "name": "stdin",
     "output_type": "stream",
     "text": [
      "Enter the name of the product you would like to order:  hat\n",
      "Would you like to continue? yes or no?:  yes\n",
      "Enter the name of the product you would like to order:  mug\n",
      "Would you like to continue? yes or no?:  no\n"
     ]
    }
   ],
   "source": [
    "\"\"\"2. Define a function named get_customer_orders that takes no parameters. \n",
    "Inside the function, implement the code for prompting the user to enter the \n",
    "product names using a loop. The function should return the customer_orders set.\"\"\"\n",
    "\n",
    "def get_customer_orders():\n",
    "    products_list = []\n",
    "    keep_going = \"\"\n",
    "    while keep_going == \"yes\":\n",
    "            product = input(\"Enter the name of the product you would like to order: \")\n",
    "            products_list.append(product)\n",
    "            keep_going = input(\"Would you like to continue? yes or no?: \")\n",
    "            if len(products_list) > 5:\n",
    "                break\n",
    "    return products_list\n",
    "    \n",
    "customer_orders = get_customer_orders()\n",
    "\n"
   ]
  },
  {
   "cell_type": "code",
   "execution_count": 27,
   "id": "0ef89daa-55c8-4c46-bde6-c9116d3b49ff",
   "metadata": {
    "tags": []
   },
   "outputs": [
    {
     "name": "stdout",
     "output_type": "stream",
     "text": [
      "['hat', 'mug']\n"
     ]
    }
   ],
   "source": [
    "print(customer_orders)"
   ]
  },
  {
   "cell_type": "code",
   "execution_count": 30,
   "id": "13879162-e776-4afa-a1e8-c3e454716144",
   "metadata": {
    "tags": []
   },
   "outputs": [
    {
     "name": "stdout",
     "output_type": "stream",
     "text": [
      "{'t-shirt': 3, 'mug': 1, 'hat': 1, 'book': 6, 'keychain': 7}\n"
     ]
    }
   ],
   "source": [
    "\"\"\"3. Define a function named update_inventory that takes customer_orders and inventory as parameters. \n",
    "Inside the function, implement the code for updating the inventory dictionary based on the customer orders.\"\"\"\n",
    "\n",
    "def update_inventory(element1, element2):\n",
    "    for i in element2.keys():\n",
    "        if i in element1:\n",
    "            element2[i] -= 1\n",
    "    print(element2)\n",
    "\n",
    "update_inventory(customer_orders, inventory)\n",
    "    "
   ]
  },
  {
   "cell_type": "code",
   "execution_count": 32,
   "id": "ef870800-9b07-43aa-a92c-908062193fc3",
   "metadata": {
    "tags": []
   },
   "outputs": [
    {
     "data": {
      "text/plain": [
       "(2, 0.4)"
      ]
     },
     "execution_count": 32,
     "metadata": {},
     "output_type": "execute_result"
    }
   ],
   "source": [
    "\"\"\"4. Define a function named calculate_order_statistics that takes customer_orders and products as \n",
    "parameters. Inside the function, implement the code for calculating the order statistics \n",
    "(total products ordered, and percentage of unique products ordered). \n",
    "The function should return these values.\"\"\"\n",
    "\n",
    "def calculate_order_statistics(value1, value2):\n",
    "    total_products = len(value1)\n",
    "    percentage_products = len(value1)/len(value2)*100\n",
    "    return(total_products, percentage_products)\n",
    "\n",
    "calculate_order_statistics(customer_orders, products)"
   ]
  },
  {
   "cell_type": "code",
   "execution_count": 37,
   "id": "169fe571-7566-4ddf-a229-5bc187630480",
   "metadata": {
    "tags": []
   },
   "outputs": [
    {
     "name": "stdout",
     "output_type": "stream",
     "text": [
      "The number of products ordered is 2 .\n",
      "They corrrespond to 40 percent of the inventory.\n"
     ]
    }
   ],
   "source": [
    "\"\"\"5. Define a function named print_order_statistics that takes order_statistics as a parameter. \n",
    "Inside the function, implement the code for printing the order statistics.\"\"\"\n",
    "\n",
    "total_products = len(customer_orders)\n",
    "percentage_products = (total_products / len(products)) * 100\n",
    "\n",
    "def print_order_statistics(value1, value2):\n",
    "    print(\"The number of products ordered is\", value1,\".\")\n",
    "    print(\"They corrrespond to\", int(value2), \"percent of the inventory.\")\n",
    "\n",
    "print_order_statistics(total_products, percentage_products)"
   ]
  },
  {
   "cell_type": "code",
   "execution_count": 41,
   "id": "d5670e6a-3fb3-4f57-8be4-1d332b11f524",
   "metadata": {
    "tags": []
   },
   "outputs": [
    {
     "name": "stdout",
     "output_type": "stream",
     "text": [
      "The inventory after update is {'t-shirt': 3, 'mug': 3, 'hat': 4, 'book': 6, 'keychain': 3}\n"
     ]
    }
   ],
   "source": [
    "\"\"\"6. Define a function named print_updated_inventory that takes inventory as a parameter. \n",
    "Inside the function, implement the code for printing the updated inventory.\"\"\"\n",
    "\n",
    "def print_updated_inventory(element):\n",
    "    print(\"The inventory after update is\", element)\n",
    "\n",
    "print_updated_inventory(inventory)"
   ]
  },
  {
   "cell_type": "code",
   "execution_count": 39,
   "id": "2e7e85e9-6420-4876-86a0-396d4851c471",
   "metadata": {
    "tags": []
   },
   "outputs": [
    {
     "name": "stdin",
     "output_type": "stream",
     "text": [
      "Enter the quantity of t-shirt available:  3\n",
      "Enter the quantity of mug available:  4\n",
      "Enter the quantity of hat available:  5\n",
      "Enter the quantity of book available:  6\n",
      "Enter the quantity of keychain available:  3\n",
      "Enter the name of the product you would like to order:  hat\n",
      "Would you like to continue? yes or no?:  yes\n",
      "Enter the name of the product you would like to order:  book\n",
      "Would you like to continue? yes or no?:  yes\n",
      "Enter the name of the product you would like to order:  mug\n",
      "Would you like to continue? yes or no?:  no\n"
     ]
    },
    {
     "name": "stdout",
     "output_type": "stream",
     "text": [
      "{'t-shirt': 3, 'mug': 3, 'hat': 4, 'book': 6, 'keychain': 3}\n",
      "The number of products ordered is 2 .\n",
      "They corrrespond to 40 percent of the inventory.\n",
      "{'t-shirt': 3, 'mug': 3, 'hat': 4, 'book': 6, 'keychain': 3}\n"
     ]
    }
   ],
   "source": [
    "\"\"\"7. Call the functions in the appropriate sequence to execute the program and manage customer orders.\"\"\"\n",
    "\n",
    "initialize_inventory(products)\n",
    "get_customer_orders()\n",
    "update_inventory(customer_orders, inventory)\n",
    "calculate_order_statistics(customer_orders, products)\n",
    "print_order_statistics(total_products, percentage_products)\n",
    "print_updated_inventory(inventory)"
   ]
  },
  {
   "cell_type": "code",
   "execution_count": null,
   "id": "2d343068-3415-4b3e-9031-e11c05a789a7",
   "metadata": {},
   "outputs": [],
   "source": []
  }
 ],
 "metadata": {
  "kernelspec": {
   "display_name": "Python 3 (ipykernel)",
   "language": "python",
   "name": "python3"
  },
  "language_info": {
   "codemirror_mode": {
    "name": "ipython",
    "version": 3
   },
   "file_extension": ".py",
   "mimetype": "text/x-python",
   "name": "python",
   "nbconvert_exporter": "python",
   "pygments_lexer": "ipython3",
   "version": "3.11.5"
  }
 },
 "nbformat": 4,
 "nbformat_minor": 5
}
